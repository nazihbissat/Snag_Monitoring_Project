{
 "cells": [
  {
   "cell_type": "code",
   "execution_count": 1,
   "metadata": {},
   "outputs": [],
   "source": [
    "import snowflake\n",
    "import getpass\n",
    "import pprint\n",
    "from snowflake.connector import DictCursor\n",
    "\n",
    "CONNECTION_PARAMS = {\n",
    "    \"user\":None,\n",
    "    \"password\":None,\n",
    "    \"account\":'snagajob',\n",
    "    \"authenticator\":\"https://snagajob.okta.com/\",\n",
    "    \"database\":\"PROD_SAJ_SHARE\",\n",
    "    \"warehouse\":\"prod_wh\",\n",
    "    \"schema\":\"DBO\"\n",
    "}"
   ]
  },
  {
   "cell_type": "code",
   "execution_count": 2,
   "metadata": {},
   "outputs": [
    {
     "name": "stdout",
     "output_type": "stream",
     "text": [
      "your snowflake user: robert.mealey@snagajob.com\n"
     ]
    }
   ],
   "source": [
    "CONNECTION_PARAMS[\"user\"] = input(\"your snowflake user: \")"
   ]
  },
  {
   "cell_type": "code",
   "execution_count": 3,
   "metadata": {},
   "outputs": [
    {
     "name": "stdout",
     "output_type": "stream",
     "text": [
      "your snowflake password: ········\n"
     ]
    }
   ],
   "source": [
    "CONNECTION_PARAMS[\"password\"] = getpass.getpass(\"your snowflake password: \")"
   ]
  },
  {
   "cell_type": "code",
   "execution_count": 4,
   "metadata": {},
   "outputs": [],
   "source": [
    "query = \"\"\"\n",
    "select \n",
    "    DIMDATEKEY, \n",
    "    count(*) as PAGE_VIEW_COUNTS \n",
    "from EVENT.EVENTS \n",
    "where EVENTTYPE = 'Page View'\n",
    "and DIMDATEKEY >= 20180501\n",
    "group by DIMDATEKEY\n",
    "order by DIMDATEKEY;\n",
    "\"\"\""
   ]
  },
  {
   "cell_type": "code",
   "execution_count": 5,
   "metadata": {},
   "outputs": [],
   "source": [
    "with snowflake.connector.connect(** CONNECTION_PARAMS) as ctx:\n",
    "    with ctx.cursor(DictCursor) as cs:\n",
    "        with cs.execute(query) as results:\n",
    "            pageview_counts = [r for r in results] # you can leave as generator or feed directly in pandas dataframe"
   ]
  },
  {
   "cell_type": "code",
   "execution_count": null,
   "metadata": {},
   "outputs": [],
   "source": [
    "pageview_counts[0]"
   ]
  }
 ],
 "metadata": {
  "kernelspec": {
   "display_name": "Python 3",
   "language": "python",
   "name": "python3"
  },
  "language_info": {
   "codemirror_mode": {
    "name": "ipython",
    "version": 3
   },
   "file_extension": ".py",
   "mimetype": "text/x-python",
   "name": "python",
   "nbconvert_exporter": "python",
   "pygments_lexer": "ipython3",
   "version": "3.6.5"
  }
 },
 "nbformat": 4,
 "nbformat_minor": 2
}
